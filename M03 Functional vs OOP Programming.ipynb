{
 "cells": [
  {
   "cell_type": "code",
   "execution_count": 33,
   "id": "e371abcf-e5de-4e72-8812-86957d9c09fd",
   "metadata": {},
   "outputs": [
    {
     "name": "stdout",
     "output_type": "stream",
     "text": [
      "[0, 0, 0, 1, 1, 1, 2, 2]\n"
     ]
    }
   ],
   "source": [
    "# Function to sort an array of 0s, 1s, and 2s\n",
    "def sort012(arr):\n",
    "    low, mid, high = 0, 0, len(arr) - 1  #\n",
    "\n",
    "    while mid <= high:\n",
    "        if arr[mid] == 0:  \n",
    "            arr[low], arr[mid] = arr[mid], arr[low]\n",
    "            low += 1\n",
    "            mid += 1\n",
    "        elif arr[mid] == 1:  \n",
    "            mid += 1\n",
    "        else:  \n",
    "            arr[mid], arr[high] = arr[high], arr[mid]\n",
    "            high -= 1\n",
    "\n",
    "    return arr  \n",
    "\n",
    "\n",
    "arr = [0, 1, 2, 1, 2, 0, 0, 1]\n",
    "sorted_arr = sort012(arr)\n",
    "print(sorted_arr)  # Output: [0, 0, 0, 1, 1, 1, 2, 2]\n"
   ]
  },
  {
   "cell_type": "code",
   "execution_count": 35,
   "id": "1409bcbe-ede8-4cf3-9a4c-c7d69ffc3c9d",
   "metadata": {},
   "outputs": [
    {
     "name": "stdout",
     "output_type": "stream",
     "text": [
      "3\n"
     ]
    }
   ],
   "source": [
    "class Solution:\n",
    "    def binarysearch(self, arr, k):\n",
    "        left, right = 0, len(arr) - 1\n",
    "        \n",
    "        while left <= right:\n",
    "            mid = left + (right - left) // 2  \n",
    "            if arr[mid] == k:\n",
    "                return mid  \n",
    "            elif arr[mid] < k:\n",
    "                left = mid + 1  \n",
    "            else:\n",
    "                right = mid - 1  \n",
    "        \n",
    "        return -1  \n",
    "\n",
    "sol = Solution()\n",
    "arr = [1, 3, 5, 7, 9, 11]\n",
    "k = 7\n",
    "print(sol.binarysearch(arr, k))  # Expected output: 3\n"
   ]
  }
 ],
 "metadata": {
  "kernelspec": {
   "display_name": "Python [conda env:base] *",
   "language": "python",
   "name": "conda-base-py"
  },
  "language_info": {
   "codemirror_mode": {
    "name": "ipython",
    "version": 3
   },
   "file_extension": ".py",
   "mimetype": "text/x-python",
   "name": "python",
   "nbconvert_exporter": "python",
   "pygments_lexer": "ipython3",
   "version": "3.12.7"
  }
 },
 "nbformat": 4,
 "nbformat_minor": 5
}
