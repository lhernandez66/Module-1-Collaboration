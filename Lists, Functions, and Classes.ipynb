{
 "cells": [
  {
   "cell_type": "code",
   "execution_count": 3,
   "id": "234ca64e-b437-4b63-9164-af8c2572ca40",
   "metadata": {},
   "outputs": [
    {
     "name": "stdout",
     "output_type": "stream",
     "text": [
      "2008 Suzuki SX4 with 4 doors and a solid roof.\n"
     ]
    }
   ],
   "source": [
    "class Vehicle:\n",
    "    def __init__(self, vehicle_type):\n",
    "        self.vehicle_type = vehicle_type\n",
    "\n",
    "class Automobile(Vehicle):\n",
    "    def __init__(self, year, make, model, doors, roof):\n",
    "        super().__init__(\"car\")\n",
    "        self.year = year\n",
    "        self.make = make\n",
    "        self.model = model\n",
    "        self.doors = doors\n",
    "        self.roof = roof\n",
    "\n",
    "    def __str__(self):\n",
    "        return f\"{self.year} {self.make} {self.model} with {self.doors} doors and a {self.roof} roof.\"\n",
    "\n",
    "if __name__ == \"__main__\":\n",
    "    my_car = Automobile(2008, \"Suzuki\", \"SX4\", 4, \"solid\")\n",
    "    print(my_car)\n"
   ]
  },
  {
   "cell_type": "code",
   "execution_count": 5,
   "id": "d4f31261-4e88-4036-ada6-ed6c3dd1b953",
   "metadata": {},
   "outputs": [
    {
     "name": "stdin",
     "output_type": "stream",
     "text": [
      "Year:  2020\n",
      "Make:  Tesla\n",
      "Model:  3\n",
      "Number of doors (2 or 4):  4\n",
      "Type of roof (solid or sun roof):  solid\n"
     ]
    },
    {
     "name": "stdout",
     "output_type": "stream",
     "text": [
      "Vehicle type: car\n",
      "Year: 2020\n",
      "Make: Tesla\n",
      "Model: 3\n",
      "Number of doors: 4\n",
      "Type of roof: solid\n"
     ]
    }
   ],
   "source": [
    "class Automobile:\n",
    "    def __init__(self, year, make, model, doors, roof):\n",
    "        self.vehicle_type = \"car\"\n",
    "        self.year = year\n",
    "        self.make = make\n",
    "        self.model = model\n",
    "        self.doors = doors\n",
    "        self.roof = roof\n",
    "\n",
    "    def __str__(self):\n",
    "        return (f\"Vehicle type: {self.vehicle_type}\\n\"\n",
    "                f\"Year: {self.year}\\n\"\n",
    "                f\"Make: {self.make}\\n\"\n",
    "                f\"Model: {self.model}\\n\"\n",
    "                f\"Number of doors: {self.doors}\\n\"\n",
    "                f\"Type of roof: {self.roof}\")\n",
    "\n",
    "def get_car_info():\n",
    "    car = Automobile(input(\"Year: \"), input(\"Make: \"), input(\"Model: \"), input(\"Number of doors (2 or 4): \"), input(\"Type of roof (solid or sun roof): \"))\n",
    "    print(car)\n",
    "\n",
    "if __name__ == \"__main__\":\n",
    "    get_car_info()\n"
   ]
  },
  {
   "cell_type": "code",
   "execution_count": null,
   "id": "68858b52-1d6a-4c86-8116-5084f7c916f5",
   "metadata": {},
   "outputs": [],
   "source": []
  }
 ],
 "metadata": {
  "kernelspec": {
   "display_name": "Python [conda env:base] *",
   "language": "python",
   "name": "conda-base-py"
  },
  "language_info": {
   "codemirror_mode": {
    "name": "ipython",
    "version": 3
   },
   "file_extension": ".py",
   "mimetype": "text/x-python",
   "name": "python",
   "nbconvert_exporter": "python",
   "pygments_lexer": "ipython3",
   "version": "3.12.7"
  }
 },
 "nbformat": 4,
 "nbformat_minor": 5
}
