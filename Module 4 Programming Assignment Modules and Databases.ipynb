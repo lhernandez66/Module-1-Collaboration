{
 "cells": [
  {
   "cell_type": "code",
   "execution_count": 15,
   "id": "b58c5df7-dcb7-4b95-9601-f0045318c475",
   "metadata": {},
   "outputs": [
    {
     "name": "stdout",
     "output_type": "stream",
     "text": [
      "Writing zoo.py\n"
     ]
    }
   ],
   "source": [
    "%%writefile zoo.py\n",
    "def hours():\n",
    "    print(\"Open 9-5 daily\")"
   ]
  },
  {
   "cell_type": "code",
   "execution_count": 17,
   "id": "144ee2d4-958a-4d65-8b68-f4cc5a662893",
   "metadata": {},
   "outputs": [
    {
     "name": "stdout",
     "output_type": "stream",
     "text": [
      "Open 9-5 daily\n"
     ]
    }
   ],
   "source": [
    "import zoo\n",
    "zoo.hours()"
   ]
  },
  {
   "cell_type": "code",
   "execution_count": 19,
   "id": "75243c15-cd80-41bb-873a-632f92b4f5f4",
   "metadata": {},
   "outputs": [
    {
     "name": "stdout",
     "output_type": "stream",
     "text": [
      "Open 9-5 daily\n"
     ]
    }
   ],
   "source": [
    "import zoo as menagerie\n",
    "menagerie.hours()"
   ]
  },
  {
   "cell_type": "code",
   "execution_count": 27,
   "id": "368ae806-dfac-4a5e-8e2d-0abb02e9ef57",
   "metadata": {},
   "outputs": [],
   "source": [
    "import sqlite3\n",
    "\n",
    "# Connecting to the SQLite database \n",
    "conn = sqlite3.connect('books.db')\n",
    "cursor = conn.cursor()\n",
    "\n",
    "# Creating the table\n",
    "cursor.execute('''\n",
    "CREATE TABLE IF NOT EXISTS books (\n",
    "    title TEXT,\n",
    "    author TEXT,\n",
    "    year INTEGER\n",
    ")\n",
    "''')\n",
    "\n",
    "# Committing and closing the connection\n",
    "conn.commit()\n",
    "conn.close()\n"
   ]
  },
  {
   "cell_type": "code",
   "execution_count": 29,
   "id": "a20961f3-e216-4a77-ba65-3868e09ae74a",
   "metadata": {},
   "outputs": [],
   "source": [
    "import csv\n",
    "import sqlite3\n",
    "\n",
    "# Read the books2.csv file\n",
    "with open('books2.csv', newline='') as file:\n",
    "    reader = csv.DictReader(file)\n",
    "    \n",
    "    # Connecting to the SQLite database\n",
    "    conn = sqlite3.connect('books.db')\n",
    "    cursor = conn.cursor()\n",
    "    \n",
    "    # Inserting each row into the books table\n",
    "    for row in reader:\n",
    "        cursor.execute('''\n",
    "        INSERT INTO books (title, author, year) VALUES (?, ?, ?)\n",
    "        ''', (row['title'], row['author'], int(row['year'])))\n",
    "    \n",
    "    # Committing and close the connection\n",
    "    conn.commit()\n",
    "    conn.close()\n"
   ]
  },
  {
   "cell_type": "code",
   "execution_count": 39,
   "id": "c61acb8b-76d5-4af2-9b1f-500948bf8af1",
   "metadata": {},
   "outputs": [
    {
     "name": "stdout",
     "output_type": "stream",
     "text": [
      "Perdido Street Station\n",
      "Small Gods\n",
      "The Spellman Files\n",
      "The Weirdstone of Brisingamen\n",
      "Thud!\n"
     ]
    }
   ],
   "source": [
    "from sqlalchemy import create_engine, Table, MetaData\n",
    "\n",
    "# Creatign an SQLAlchemy engine\n",
    "engine = create_engine('sqlite:///books.db')\n",
    "\n",
    "# Connecting to the database\n",
    "metadata = MetaData()\n",
    "books_table = Table('books', metadata, autoload_with=engine)\n",
    "\n",
    "# Titles in alphabetical order\n",
    "with engine.connect() as connection:\n",
    "    result = connection.execute(books_table.select().order_by(books_table.c.title))\n",
    "\n",
    "    # Printing  titles using the index\n",
    "    for row in result:\n",
    "        print(row[0])  # 0 is the index of the 'title' column in the result tuple\n"
   ]
  }
 ],
 "metadata": {
  "kernelspec": {
   "display_name": "Python [conda env:base] *",
   "language": "python",
   "name": "conda-base-py"
  },
  "language_info": {
   "codemirror_mode": {
    "name": "ipython",
    "version": 3
   },
   "file_extension": ".py",
   "mimetype": "text/x-python",
   "name": "python",
   "nbconvert_exporter": "python",
   "pygments_lexer": "ipython3",
   "version": "3.12.7"
  }
 },
 "nbformat": 4,
 "nbformat_minor": 5
}
