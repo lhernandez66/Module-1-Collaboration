{
 "cells": [
  {
   "cell_type": "code",
   "execution_count": 3,
   "id": "19b10ea0-fc53-4e37-82ed-a81938c5bc64",
   "metadata": {},
   "outputs": [
    {
     "name": "stdin",
     "output_type": "stream",
     "text": [
      "Enter student's last name (or 'ZZZ' to quit):  Hernandez\n",
      "Enter student's first name:  Leslie\n",
      "Enter student's GPA:  4.0\n"
     ]
    },
    {
     "name": "stdout",
     "output_type": "stream",
     "text": [
      "Leslie Hernandez has made the Dean's List\n"
     ]
    },
    {
     "name": "stdin",
     "output_type": "stream",
     "text": [
      "Enter student's last name (or 'ZZZ' to quit):  Ramirez\n",
      "Enter student's first name:  Elizabeth\n",
      "Enter student's GPA:  3.25\n"
     ]
    },
    {
     "name": "stdout",
     "output_type": "stream",
     "text": [
      "Elizabeth Ramirez has made the Honor Roll\n"
     ]
    },
    {
     "name": "stdin",
     "output_type": "stream",
     "text": [
      "Enter student's last name (or 'ZZZ' to quit):  Smith\n",
      "Enter student's first name:  Ana\n",
      "Enter student's GPA:  2.6\n"
     ]
    },
    {
     "name": "stdout",
     "output_type": "stream",
     "text": [
      "Ana Smith did not qualify for the Dean's List or Honor Roll.\n"
     ]
    },
    {
     "name": "stdin",
     "output_type": "stream",
     "text": [
      "Enter student's last name (or 'ZZZ' to quit):  Miller\n",
      "Enter student's first name:  Taylor\n",
      "Enter student's GPA:  3.3\n"
     ]
    },
    {
     "name": "stdout",
     "output_type": "stream",
     "text": [
      "Taylor Miller has made the Honor Roll\n"
     ]
    },
    {
     "name": "stdin",
     "output_type": "stream",
     "text": [
      "Enter student's last name (or 'ZZZ' to quit):  Moore\n",
      "Enter student's first name:  Jake\n",
      "Enter student's GPA:  4.5\n"
     ]
    },
    {
     "name": "stdout",
     "output_type": "stream",
     "text": [
      "Jake Moore has made the Dean's List\n"
     ]
    },
    {
     "name": "stdin",
     "output_type": "stream",
     "text": [
      "Enter student's last name (or 'ZZZ' to quit):  ZZZ\n"
     ]
    }
   ],
   "source": [
    "# Leslie Hernandez\n",
    "# Student_GPA.ipynb\n",
    "# This app accepts student names and GPAs and tests if the student qualifies for the Dean's List or Honor Roll.\n",
    "\n",
    "def main():\n",
    "    while True:\n",
    "        # Asking for and accepting the student's last name\n",
    "        last_name = input(\"Enter student's last name (or 'ZZZ' to quit): \")\n",
    "        \n",
    "        # Quits processing student records if the last name entered is 'ZZZ'.\n",
    "        if last_name == 'ZZZ':\n",
    "            break\n",
    "        \n",
    "        # Asking for and accepting the student's first name\n",
    "        first_name = input(\"Enter student's first name: \")\n",
    "        \n",
    "        # Asking for and accepting the student's GPA as a float\n",
    "        gpa = float(input(\"Enter student's GPA: \"))\n",
    "        \n",
    "        # Testing if the student's GPA is 3.5 or greater and, if so, prints a message saying that the student has made the Dean's List\n",
    "        if gpa >= 3.5:\n",
    "            print(f\"{first_name} {last_name} has made the Dean's List\")\n",
    "        \n",
    "        # Testing if the student's GPA is 3.25 or greater and, if so, prints a message saying that the studnet has made the Honor Roll\n",
    "        elif gpa >= 3.25:\n",
    "            print(f\"{first_name} {last_name} has made the Honor Roll\")\n",
    "        \n",
    "        # If neither, prints a message saying the student did not qualify\n",
    "        else:\n",
    "            print(f\"{first_name} {last_name} did not qualify for the Dean's List or Honor Roll.\")\n",
    "\n",
    "# Run the main function\n",
    "if __name__ == \"__main__\":\n",
    "    main()"
   ]
  }
 ],
 "metadata": {
  "kernelspec": {
   "display_name": "Python [conda env:base] *",
   "language": "python",
   "name": "conda-base-py"
  },
  "language_info": {
   "codemirror_mode": {
    "name": "ipython",
    "version": 3
   },
   "file_extension": ".py",
   "mimetype": "text/x-python",
   "name": "python",
   "nbconvert_exporter": "python",
   "pygments_lexer": "ipython3",
   "version": "3.12.7"
  }
 },
 "nbformat": 4,
 "nbformat_minor": 5
}
